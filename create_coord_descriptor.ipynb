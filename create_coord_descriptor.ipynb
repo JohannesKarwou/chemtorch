{
 "cells": [
  {
   "cell_type": "code",
   "execution_count": null,
   "metadata": {},
   "outputs": [
    {
     "name": "stderr",
     "output_type": "stream",
     "text": [
      "/home/johannes.karwounopoulos/miniconda3/envs/deeprxn_paper/lib/python3.12/site-packages/e3nn/o3/_wigner.py:10: FutureWarning: You are using `torch.load` with `weights_only=False` (the current default value), which uses the default pickle module implicitly. It is possible to construct malicious pickle data which will execute arbitrary code during unpickling (See https://github.com/pytorch/pytorch/blob/main/SECURITY.md#untrusted-models for more details). In a future release, the default value for `weights_only` will be flipped to `True`. This limits the functions that could be executed during unpickling. Arbitrary objects will no longer be allowed to be loaded via this mode unless they are explicitly allowlisted by the user via `torch.serialization.add_safe_globals`. We recommend you start setting `weights_only=True` for any use case where you don't have full control of the loaded file. Please open an issue on GitHub for any issues related to this experimental feature.\n",
      "  _Jd, _W3j_flat, _W3j_indices = torch.load(os.path.join(os.path.dirname(__file__), 'constants.pt'))\n"
     ]
    },
    {
     "data": {
      "application/vnd.jupyter.widget-view+json": {
       "model_id": "30c98a914add4d7c9e1be9f9fa78b0df",
       "version_major": 2,
       "version_minor": 0
      },
      "text/plain": []
     },
     "metadata": {},
     "output_type": "display_data"
    }
   ],
   "source": [
    "import pandas as pd\n",
    "import numpy as np\n",
    "import tqdm\n",
    "from rdkit import Chem\n",
    "from ase import Atoms\n",
    "from ase.io import read, write\n",
    "from ase.calculators.emt import EMT\n",
    "import pickle\n",
    "\n",
    "from mace.calculators import mace_mp, mace_off, mace_anicc, MACECalculator\n",
    "\n",
    "params = Chem.SmilesParserParams()\n",
    "params.removeHs = False"
   ]
  },
  {
   "cell_type": "code",
   "execution_count": 8,
   "metadata": {},
   "outputs": [],
   "source": [
    "# Folder for the experiment (rdb7 or rgd1) in this folder there needs to be a train/val/test csv file and a train/val/test xyz file.\n",
    "# ATTENTION: The xyz files need to be in the same order as the csv files.\n",
    "path = \"data/rdb7/\"   \n",
    "dataset = \"rdb7\"     "
   ]
  },
  {
   "cell_type": "code",
   "execution_count": 4,
   "metadata": {},
   "outputs": [
    {
     "name": "stdout",
     "output_type": "stream",
     "text": [
      "Using Materials Project MACE for MACECalculator with /home/johannes.karwounopoulos/.cache/mace/20231203mace128L1_epoch199model\n",
      "Using float32 for MACECalculator, which is faster but less accurate. Recommended for MD. Use float64 for geometry optimization.\n"
     ]
    },
    {
     "name": "stderr",
     "output_type": "stream",
     "text": [
      "/home/johannes.karwounopoulos/miniconda3/envs/deeprxn_paper/lib/python3.12/site-packages/mace/calculators/mace.py:135: FutureWarning: You are using `torch.load` with `weights_only=False` (the current default value), which uses the default pickle module implicitly. It is possible to construct malicious pickle data which will execute arbitrary code during unpickling (See https://github.com/pytorch/pytorch/blob/main/SECURITY.md#untrusted-models for more details). In a future release, the default value for `weights_only` will be flipped to `True`. This limits the functions that could be executed during unpickling. Arbitrary objects will no longer be allowed to be loaded via this mode unless they are explicitly allowlisted by the user via `torch.serialization.add_safe_globals`. We recommend you start setting `weights_only=True` for any use case where you don't have full control of the loaded file. Please open an issue on GitHub for any issues related to this experimental feature.\n",
      "  torch.load(f=model_path, map_location=device)\n"
     ]
    },
    {
     "name": "stdout",
     "output_type": "stream",
     "text": [
      "Default dtype float32 does not match model dtype float64, converting models to float32.\n"
     ]
    },
    {
     "name": "stderr",
     "output_type": "stream",
     "text": [
      "10733it [11:00, 16.25it/s]\n",
      "597it [00:38, 15.64it/s]\n",
      "596it [00:37, 15.96it/s]\n"
     ]
    }
   ],
   "source": [
    "#### Calculate Descriptors using the MACE model ####\n",
    "####################################################\n",
    "\n",
    "macemp = mace_mp() # This one can be changed to mace_off or mace_anicc\n",
    "\n",
    "for split in [\"train\", \"test\", \"val\"]:\n",
    "\n",
    "    df = pd.read_csv(f\"{path}/{split}.csv\")\n",
    "    xyz_data = read(f\"{path}/{split}.xyz\", \":\")\n",
    "\n",
    "    all_desc = []\n",
    "    xyz_index = 0\n",
    "\n",
    "    for index, row in tqdm.tqdm(df.iterrows()):\n",
    "\n",
    "        smiles = df.loc[index][\"smiles\"].split(\">>\")[0]\n",
    "\n",
    "        params = Chem.SmilesParserParams()\n",
    "        params.removeHs = False\n",
    "        mol = Chem.MolFromSmiles(smiles, params)\n",
    "\n",
    "        atom_map_numbers = np.array([a.GetAtomMapNum() for a in mol.GetAtoms()])\n",
    "\n",
    "        atom_symbols = xyz_data[xyz_index].get_chemical_symbols()\n",
    "        sorted_atom_symbols = [\n",
    "            atom_symbols[i - 1] for i in atom_map_numbers\n",
    "        ]  # Sort atom symbols according to atom mapping numbers\n",
    "\n",
    "        positions = xyz_data[xyz_index].get_positions()\n",
    "        sorted_positions = [\n",
    "            positions[i - 1] for i in atom_map_numbers\n",
    "        ]  # Sort positions according to atom mapping numbers\n",
    "\n",
    "        ### Positions for TS #####\n",
    "        xyz_index += 1\n",
    "        positions_ts = xyz_data[xyz_index].get_positions()\n",
    "        sorted_positions_ts = [positions_ts[i - 1] for i in atom_map_numbers]\n",
    "\n",
    "        ### Positions for Product #####\n",
    "        xyz_index += 1\n",
    "        positions_prod = xyz_data[xyz_index].get_positions()\n",
    "        sorted_positions_prod = [positions_prod[i - 1] for i in atom_map_numbers]\n",
    "        xyz_index += 1\n",
    "\n",
    "        molecule = Atoms(positions=sorted_positions, symbols=sorted_atom_symbols)\n",
    "        molecule_ts = Atoms(positions=sorted_positions_ts, symbols=sorted_atom_symbols)\n",
    "        molecule_prod = Atoms(\n",
    "            positions=sorted_positions_prod, symbols=sorted_atom_symbols\n",
    "        )\n",
    "\n",
    "        desc = macemp.get_descriptors(molecule)\n",
    "        desc_ts = macemp.get_descriptors(molecule_ts)\n",
    "        desc_prod = macemp.get_descriptors(molecule_prod)\n",
    "\n",
    "        # all_desc.append(np.hstack([desc, desc_ts, desc_prod])) # Uncomment if you want to save the descriptors for the product and reactant as well\n",
    "        all_desc.append(desc_ts)\n",
    "\n",
    "    np.savez_compressed(f\"{path}/{split}_mace_mp_ts.npz\", *all_desc)"
   ]
  },
  {
   "cell_type": "code",
   "execution_count": null,
   "metadata": {},
   "outputs": [
    {
     "name": "stderr",
     "output_type": "stream",
     "text": [
      "/home/johannes.karwounopoulos/miniconda3/envs/deeprxn_paper/lib/python3.12/site-packages/torch/storage.py:414: FutureWarning: You are using `torch.load` with `weights_only=False` (the current default value), which uses the default pickle module implicitly. It is possible to construct malicious pickle data which will execute arbitrary code during unpickling (See https://github.com/pytorch/pytorch/blob/main/SECURITY.md#untrusted-models for more details). In a future release, the default value for `weights_only` will be flipped to `True`. This limits the functions that could be executed during unpickling. Arbitrary objects will no longer be allowed to be loaded via this mode unless they are explicitly allowlisted by the user via `torch.serialization.add_safe_globals`. We recommend you start setting `weights_only=True` for any use case where you don't have full control of the loaded file. Please open an issue on GitHub for any issues related to this experimental feature.\n",
      "  return torch.load(io.BytesIO(b))\n"
     ]
    },
    {
     "name": "stdout",
     "output_type": "stream",
     "text": [
      "Using Materials Project MACE for MACECalculator with /home/johannes.karwounopoulos/.cache/mace/20231203mace128L1_epoch199model\n",
      "Using float32 for MACECalculator, which is faster but less accurate. Recommended for MD. Use float64 for geometry optimization.\n",
      "Default dtype float32 does not match model dtype float64, converting models to float32.\n"
     ]
    },
    {
     "name": "stderr",
     "output_type": "stream",
     "text": [
      "/home/johannes.karwounopoulos/miniconda3/envs/deeprxn_paper/lib/python3.12/site-packages/mace/calculators/mace.py:135: FutureWarning: You are using `torch.load` with `weights_only=False` (the current default value), which uses the default pickle module implicitly. It is possible to construct malicious pickle data which will execute arbitrary code during unpickling (See https://github.com/pytorch/pytorch/blob/main/SECURITY.md#untrusted-models for more details). In a future release, the default value for `weights_only` will be flipped to `True`. This limits the functions that could be executed during unpickling. Arbitrary objects will no longer be allowed to be loaded via this mode unless they are explicitly allowlisted by the user via `torch.serialization.add_safe_globals`. We recommend you start setting `weights_only=True` for any use case where you don't have full control of the loaded file. Please open an issue on GitHub for any issues related to this experimental feature.\n",
      "  torch.load(f=model_path, map_location=device)\n"
     ]
    }
   ],
   "source": [
    "### Create descriptor file for the flow matching model ###\n",
    "###########################################################\n",
    "\n",
    "split = \"test\"\n",
    "\n",
    "coord = f\"coordinates_flowMatching.pkl\"\n",
    "\n",
    "with open(path+\"/\"+coord, \"rb\") as f:\n",
    "    coordinate_file = pickle.load(f)\n",
    "\n",
    "smiles_file = pd.read_csv(f\"data/{dataset}/{split}.csv\")\n",
    "\n",
    "# ## Flow Matching model\n",
    "assert len(coordinate_file) == len(smiles_file)\n",
    "assert coordinate_file[1].smiles == smiles_file[\"smiles\"][1]\n",
    "\n",
    "macemp = mace_mp()\n",
    "all_desc = []\n",
    "\n",
    "for index, row in smiles_file.iterrows():\n",
    "    rtsp = 0\n",
    "    smiles_data = smiles_file.iloc[index].smiles.split(\">>\")[0]\n",
    "    smiles = coordinate_file[index].smiles.split(\">>\")[0]\n",
    "\n",
    "    mol = Chem.MolFromSmiles(smiles, params)\n",
    "\n",
    "    atom_map_num = np.array([a.GetAtomMapNum() for a in mol.GetAtoms()])\n",
    "    atom_symbols = [atom.GetSymbol() for atom in mol.GetAtoms()]\n",
    "    atom_symbols_mapped = [atom_symbols[i] for i in np.argsort(atom_map_num)]\n",
    "\n",
    "    assert smiles_data == smiles\n",
    "\n",
    "    positions = coordinate_file[index].pos_gen[-1]\n",
    "\n",
    "    symbols = []\n",
    "    new_positions = []\n",
    "    for atom in mol.GetAtoms():\n",
    "        atom_num = atom.GetAtomMapNum()\n",
    "        symbols.append(atom_symbols_mapped[atom_num - 1])\n",
    "        new_positions.append(positions[atom_num - 1])\n",
    "\n",
    "    molecule_ts = Atoms(symbols=symbols, positions=new_positions)\n",
    "    desc_ts = macemp.get_descriptors(molecule_ts)\n",
    "\n",
    "    all_desc.append(desc_ts)\n",
    "\n",
    "np.savez_compressed(\n",
    "    f\"data/{dataset}/{split}_mace_mp_ts_flowMatching.npz\", *all_desc\n",
    ")\n"
   ]
  },
  {
   "cell_type": "code",
   "execution_count": null,
   "metadata": {},
   "outputs": [
    {
     "name": "stderr",
     "output_type": "stream",
     "text": [
      "/home/johannes.karwounopoulos/miniconda3/envs/deeprxn_paper/lib/python3.12/site-packages/torch/storage.py:414: FutureWarning: You are using `torch.load` with `weights_only=False` (the current default value), which uses the default pickle module implicitly. It is possible to construct malicious pickle data which will execute arbitrary code during unpickling (See https://github.com/pytorch/pytorch/blob/main/SECURITY.md#untrusted-models for more details). In a future release, the default value for `weights_only` will be flipped to `True`. This limits the functions that could be executed during unpickling. Arbitrary objects will no longer be allowed to be loaded via this mode unless they are explicitly allowlisted by the user via `torch.serialization.add_safe_globals`. We recommend you start setting `weights_only=True` for any use case where you don't have full control of the loaded file. Please open an issue on GitHub for any issues related to this experimental feature.\n",
      "  return torch.load(io.BytesIO(b))\n"
     ]
    },
    {
     "name": "stdout",
     "output_type": "stream",
     "text": [
      "Using Materials Project MACE for MACECalculator with /home/johannes.karwounopoulos/.cache/mace/20231203mace128L1_epoch199model\n",
      "Using float32 for MACECalculator, which is faster but less accurate. Recommended for MD. Use float64 for geometry optimization.\n",
      "Default dtype float32 does not match model dtype float64, converting models to float32.\n"
     ]
    },
    {
     "name": "stderr",
     "output_type": "stream",
     "text": [
      "/home/johannes.karwounopoulos/miniconda3/envs/deeprxn_paper/lib/python3.12/site-packages/mace/calculators/mace.py:135: FutureWarning: You are using `torch.load` with `weights_only=False` (the current default value), which uses the default pickle module implicitly. It is possible to construct malicious pickle data which will execute arbitrary code during unpickling (See https://github.com/pytorch/pytorch/blob/main/SECURITY.md#untrusted-models for more details). In a future release, the default value for `weights_only` will be flipped to `True`. This limits the functions that could be executed during unpickling. Arbitrary objects will no longer be allowed to be loaded via this mode unless they are explicitly allowlisted by the user via `torch.serialization.add_safe_globals`. We recommend you start setting `weights_only=True` for any use case where you don't have full control of the loaded file. Please open an issue on GitHub for any issues related to this experimental feature.\n",
      "  torch.load(f=model_path, map_location=device)\n"
     ]
    }
   ],
   "source": [
    "## Create descriptor file for the diffusion model ##\n",
    "######################################################\n",
    "\n",
    "split = \"test\"\n",
    "coord = f\"coordinates_diffusion.pkl\" \n",
    "\n",
    "with open(path+\"/\"+coord, \"rb\") as f:\n",
    "    coordinate_file = pickle.load(f)\n",
    "\n",
    "smiles_file = pd.read_csv(f\"data/{dataset}/{split}.csv\")\n",
    "\n",
    "assert len(coordinate_file[0]) == len(smiles_file)\n",
    "assert coordinate_file[0][1].smiles == smiles_file[\"smiles\"][1]\n",
    "\n",
    "macemp = mace_mp()\n",
    "all_desc = []\n",
    "\n",
    "\n",
    "for index, row in smiles_file.iterrows():\n",
    "    rtsp = 0\n",
    "    smiles_data = smiles_file.iloc[index].smiles.split(\">>\")[0]\n",
    "    smiles = coordinate_file[rtsp][index].smiles.split(\">>\")[0]\n",
    "\n",
    "    mol = Chem.MolFromSmiles(smiles, params)\n",
    "\n",
    "    atom_map_num = np.array([a.GetAtomMapNum() for a in mol.GetAtoms()])\n",
    "    atom_symbols = [atom.GetSymbol() for atom in mol.GetAtoms()]\n",
    "    atom_symbols_mapped = [atom_symbols[i] for i in np.argsort(atom_map_num)]\n",
    "\n",
    "    assert smiles_data == smiles\n",
    "\n",
    "    positions = coordinate_file[1][index].pos_gen\n",
    "\n",
    "    symbols = []\n",
    "    new_positions = []\n",
    "    for atom in mol.GetAtoms():\n",
    "        atom_num = atom.GetAtomMapNum()\n",
    "        symbols.append(atom_symbols_mapped[atom_num - 1])\n",
    "        new_positions.append(positions[atom_num - 1])\n",
    "\n",
    "    molecule_ts = Atoms(symbols=symbols, positions=new_positions)\n",
    "    desc_ts = macemp.get_descriptors(molecule_ts)\n",
    "\n",
    "    all_desc.append(desc_ts)\n",
    "\n",
    "np.savez_compressed(\n",
    "    f\"data/{dataset}/{split}_mace_mp_ts_diffusion.npz\", *all_desc\n",
    ")\n"
   ]
  },
  {
   "cell_type": "code",
   "execution_count": null,
   "metadata": {},
   "outputs": [],
   "source": []
  }
 ],
 "metadata": {
  "kernelspec": {
   "display_name": "deeprxn_paper",
   "language": "python",
   "name": "python3"
  },
  "language_info": {
   "codemirror_mode": {
    "name": "ipython",
    "version": 3
   },
   "file_extension": ".py",
   "mimetype": "text/x-python",
   "name": "python",
   "nbconvert_exporter": "python",
   "pygments_lexer": "ipython3",
   "version": "3.12.8"
  }
 },
 "nbformat": 4,
 "nbformat_minor": 2
}
